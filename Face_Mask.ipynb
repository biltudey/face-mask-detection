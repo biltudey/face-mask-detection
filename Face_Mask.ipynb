{
  "cells": [
    {
      "cell_type": "code",
      "execution_count": 1,
      "metadata": {
        "colab": {
          "base_uri": "https://localhost:8080/"
        },
        "id": "9XGvhEcXAP_A",
        "outputId": "a2cba8f2-2162-4ab9-cd98-9df1a44ae27f"
      },
      "outputs": [
        {
          "name": "stdout",
          "output_type": "stream",
          "text": [
            "{'with mask': 0, 'without mask': 1}\n",
            "['with mask', 'without mask']\n",
            "[0, 1]\n"
          ]
        }
      ],
      "source": [
        "import cv2\n",
        "import os\n",
        "\n",
        "data_path='/content/drive/MyDrive/face-mask-detection-keras-master/dataset'\n",
        "categories=os.listdir(data_path) #mask and no mask\n",
        "labels=[i for i in range(len(categories))] #it's just going to be 2 (0,1) since there are only two categories: with mast and without mast\n",
        "\n",
        "label_dict=dict(zip(categories,labels)) #empty dictionary\n",
        "\n",
        "print(label_dict)\n",
        "print(categories)\n",
        "print(labels)"
      ]
    },
    {
      "cell_type": "code",
      "execution_count": 2,
      "metadata": {
        "colab": {
          "base_uri": "https://localhost:8080/"
        },
        "id": "JbXYbTI5CBWS",
        "outputId": "4eb13324-8fcf-4845-f741-c69f26ccc334"
      },
      "outputs": [
        {
          "name": "stdout",
          "output_type": "stream",
          "text": [
            "error OpenCV(4.6.0) /io/opencv/modules/imgproc/src/color.cpp:182: error: (-215:Assertion failed) !_src.empty() in function 'cvtColor'\n",
            "\n",
            "error OpenCV(4.6.0) /io/opencv/modules/imgproc/src/color.cpp:182: error: (-215:Assertion failed) !_src.empty() in function 'cvtColor'\n",
            "\n"
          ]
        }
      ],
      "source": [
        "img_size = 100\n",
        "data = []\n",
        "target = []\n",
        "\n",
        "for category in categories:\n",
        "    folder_path = os.path.join(data_path,category)\n",
        "    img_names = os.listdir(folder_path)\n",
        "    \n",
        "    for img_name in img_names:\n",
        "        img_path = os.path.join(folder_path,img_name)\n",
        "        img = cv2.imread(img_path)\n",
        "\n",
        "        try:\n",
        "            grey = cv2.cvtColor(img,cv2.COLOR_BGR2GRAY)\n",
        "            resized = cv2.resize(grey,(img_size,img_size))\n",
        "            data.append(resized)\n",
        "            target.append(label_dict[category])\n",
        "        except Exception as e:\n",
        "            print('error',e)"
      ]
    },
    {
      "cell_type": "code",
      "execution_count": 2,
      "metadata": {
        "id": "eDzC1fcuGviW"
      },
      "outputs": [],
      "source": []
    },
    {
      "cell_type": "code",
      "execution_count": 3,
      "metadata": {
        "id": "frqpaqKOFieZ"
      },
      "outputs": [],
      "source": [
        "import numpy as np\n",
        "from keras.utils import np_utils\n",
        "\n",
        "data = np.array(data)/255.0\n",
        "data = np.reshape(data,(data.shape[0],img_size,img_size,1))\n",
        "target = np.array(target)\n",
        "\n",
        "new_target = np_utils.to_categorical(target)"
      ]
    },
    {
      "cell_type": "code",
      "execution_count": 4,
      "metadata": {
        "id": "fd3-wn7-DWBl"
      },
      "outputs": [],
      "source": [
        "# np.save('data',data)\n",
        "# np.save('taget',target)"
      ]
    },
    {
      "cell_type": "code",
      "execution_count": 5,
      "metadata": {
        "id": "FHHxLduuHYZo"
      },
      "outputs": [],
      "source": [
        "from keras.models import Sequential\n",
        "from keras.layers import Dense,Activation,Flatten,Dropout\n",
        "from keras.layers import Conv2D,MaxPooling2D\n",
        "from keras.callbacks import ModelCheckpoint\n"
      ]
    },
    {
      "cell_type": "code",
      "execution_count": 11,
      "metadata": {
        "id": "3yz-JQCBJcJ5"
      },
      "outputs": [],
      "source": [
        "model = Sequential()\n",
        "\n",
        "model.add(Conv2D(200,(3,3),input_shape=data.shape[1:]))\n",
        "model.add(Activation('relu'))\n",
        "model.add(MaxPooling2D(pool_size=(2,2)))\n",
        "\n",
        "model.add(Conv2D(100,(3,3),))\n",
        "model.add(Activation('relu'))\n",
        "model.add(MaxPooling2D(pool_size=(2,2)))\n",
        "\n",
        "model.add(Flatten())\n",
        "model.add(Dropout(0.5))\n",
        "\n",
        "model.add(Dense(50,activation='relu'))\n",
        "model.add(Dense(1,activation='sigmoid'))\n",
        "\n",
        "model.compile(loss='binary_crossentropy',optimizer='adam',metrics=['accuracy'])"
      ]
    },
    {
      "cell_type": "code",
      "execution_count": 7,
      "metadata": {
        "id": "tcAuO5LDKkyp"
      },
      "outputs": [],
      "source": [
        "from sklearn.model_selection import train_test_split\n",
        "\n",
        "train_data,test_data,train_target,test_target=train_test_split(data,target,test_size=0.1)"
      ]
    },
    {
      "cell_type": "code",
      "execution_count": 12,
      "metadata": {
        "colab": {
          "base_uri": "https://localhost:8080/"
        },
        "id": "tydBoJ9_K0KR",
        "outputId": "6c529712-94ad-4fc0-d28e-48eb6353e119"
      },
      "outputs": [
        {
          "name": "stdout",
          "output_type": "stream",
          "text": [
            "Epoch 1/20\n",
            "31/31 [==============================] - ETA: 0s - loss: 0.6582 - accuracy: 0.6032"
          ]
        },
        {
          "name": "stderr",
          "output_type": "stream",
          "text": [
            "WARNING:absl:Found untraced functions such as _jit_compiled_convolution_op, _jit_compiled_convolution_op while saving (showing 2 of 2). These functions will not be directly callable after loading.\n"
          ]
        },
        {
          "name": "stdout",
          "output_type": "stream",
          "text": [
            "\b\b\b\b\b\b\b\b\b\b\b\b\b\b\b\b\b\b\b\b\b\b\b\b\b\b\b\b\b\b\b\b\b\b\b\b\b\b\b\b\b\b\b\b\b\b\b\b\b\b\b\b\b\b\b\b\b\b\b\b\b\b\b\b\b\b\b\b\b\b\b\b\b\b\b\b\b\b\b\b\b\b\r31/31 [==============================] - 13s 101ms/step - loss: 0.6582 - accuracy: 0.6032 - val_loss: 0.6505 - val_accuracy: 0.6371\n",
            "Epoch 2/20\n",
            "31/31 [==============================] - ETA: 0s - loss: 0.4468 - accuracy: 0.7895"
          ]
        },
        {
          "name": "stderr",
          "output_type": "stream",
          "text": [
            "WARNING:absl:Found untraced functions such as _jit_compiled_convolution_op, _jit_compiled_convolution_op while saving (showing 2 of 2). These functions will not be directly callable after loading.\n"
          ]
        },
        {
          "name": "stdout",
          "output_type": "stream",
          "text": [
            "\b\b\b\b\b\b\b\b\b\b\b\b\b\b\b\b\b\b\b\b\b\b\b\b\b\b\b\b\b\b\b\b\b\b\b\b\b\b\b\b\b\b\b\b\b\b\b\b\b\b\b\b\b\b\b\b\b\b\b\b\b\b\b\b\b\b\b\b\b\b\b\b\b\b\b\b\b\b\b\b\b\b\r31/31 [==============================] - 2s 72ms/step - loss: 0.4468 - accuracy: 0.7895 - val_loss: 0.4100 - val_accuracy: 0.8105\n",
            "Epoch 3/20\n",
            "31/31 [==============================] - 1s 43ms/step - loss: 0.2825 - accuracy: 0.8877 - val_loss: 0.4328 - val_accuracy: 0.8306\n",
            "Epoch 4/20\n",
            "31/31 [==============================] - ETA: 0s - loss: 0.1845 - accuracy: 0.9291"
          ]
        },
        {
          "name": "stderr",
          "output_type": "stream",
          "text": [
            "WARNING:absl:Found untraced functions such as _jit_compiled_convolution_op, _jit_compiled_convolution_op while saving (showing 2 of 2). These functions will not be directly callable after loading.\n"
          ]
        },
        {
          "name": "stdout",
          "output_type": "stream",
          "text": [
            "\b\b\b\b\b\b\b\b\b\b\b\b\b\b\b\b\b\b\b\b\b\b\b\b\b\b\b\b\b\b\b\b\b\b\b\b\b\b\b\b\b\b\b\b\b\b\b\b\b\b\b\b\b\b\b\b\b\b\b\b\b\b\b\b\b\b\b\b\b\b\b\b\b\b\b\b\b\b\b\b\b\b\r31/31 [==============================] - 2s 79ms/step - loss: 0.1845 - accuracy: 0.9291 - val_loss: 0.2660 - val_accuracy: 0.8871\n",
            "Epoch 5/20\n",
            "31/31 [==============================] - ETA: 0s - loss: 0.1237 - accuracy: 0.9595"
          ]
        },
        {
          "name": "stderr",
          "output_type": "stream",
          "text": [
            "WARNING:absl:Found untraced functions such as _jit_compiled_convolution_op, _jit_compiled_convolution_op while saving (showing 2 of 2). These functions will not be directly callable after loading.\n"
          ]
        },
        {
          "name": "stdout",
          "output_type": "stream",
          "text": [
            "\b\b\b\b\b\b\b\b\b\b\b\b\b\b\b\b\b\b\b\b\b\b\b\b\b\b\b\b\b\b\b\b\b\b\b\b\b\b\b\b\b\b\b\b\b\b\b\b\b\b\b\b\b\b\b\b\b\b\b\b\b\b\b\b\b\b\b\b\b\b\b\b\b\b\b\b\b\b\b\b\b\b\r31/31 [==============================] - 2s 71ms/step - loss: 0.1237 - accuracy: 0.9595 - val_loss: 0.1819 - val_accuracy: 0.9194\n",
            "Epoch 6/20\n",
            "31/31 [==============================] - 1s 41ms/step - loss: 0.0992 - accuracy: 0.9636 - val_loss: 0.1913 - val_accuracy: 0.9315\n",
            "Epoch 7/20\n",
            "31/31 [==============================] - 1s 40ms/step - loss: 0.0961 - accuracy: 0.9656 - val_loss: 0.2292 - val_accuracy: 0.9153\n",
            "Epoch 8/20\n",
            "31/31 [==============================] - 1s 40ms/step - loss: 0.0723 - accuracy: 0.9818 - val_loss: 0.2075 - val_accuracy: 0.9315\n",
            "Epoch 9/20\n",
            "31/31 [==============================] - 1s 42ms/step - loss: 0.0519 - accuracy: 0.9767 - val_loss: 0.2949 - val_accuracy: 0.9234\n",
            "Epoch 10/20\n",
            "31/31 [==============================] - 1s 41ms/step - loss: 0.0369 - accuracy: 0.9899 - val_loss: 0.2486 - val_accuracy: 0.9395\n",
            "Epoch 11/20\n",
            "31/31 [==============================] - 1s 40ms/step - loss: 0.0280 - accuracy: 0.9909 - val_loss: 0.2269 - val_accuracy: 0.9274\n",
            "Epoch 12/20\n",
            "31/31 [==============================] - 1s 41ms/step - loss: 0.0314 - accuracy: 0.9899 - val_loss: 0.2347 - val_accuracy: 0.9435\n",
            "Epoch 13/20\n",
            "31/31 [==============================] - 1s 42ms/step - loss: 0.0296 - accuracy: 0.9919 - val_loss: 0.3730 - val_accuracy: 0.9073\n",
            "Epoch 14/20\n",
            "31/31 [==============================] - 1s 41ms/step - loss: 0.0306 - accuracy: 0.9899 - val_loss: 0.2634 - val_accuracy: 0.9395\n",
            "Epoch 15/20\n",
            "31/31 [==============================] - 1s 41ms/step - loss: 0.0191 - accuracy: 0.9949 - val_loss: 0.2221 - val_accuracy: 0.9516\n",
            "Epoch 16/20\n",
            "31/31 [==============================] - 1s 42ms/step - loss: 0.0127 - accuracy: 0.9960 - val_loss: 0.2491 - val_accuracy: 0.9435\n",
            "Epoch 17/20\n",
            "31/31 [==============================] - 1s 41ms/step - loss: 0.0077 - accuracy: 0.9980 - val_loss: 0.3533 - val_accuracy: 0.9355\n",
            "Epoch 18/20\n",
            "31/31 [==============================] - 1s 42ms/step - loss: 0.0133 - accuracy: 0.9960 - val_loss: 0.5871 - val_accuracy: 0.8871\n",
            "Epoch 19/20\n",
            "31/31 [==============================] - 1s 42ms/step - loss: 0.0187 - accuracy: 0.9929 - val_loss: 0.2239 - val_accuracy: 0.9556\n",
            "Epoch 20/20\n",
            "31/31 [==============================] - 1s 41ms/step - loss: 0.0570 - accuracy: 0.9777 - val_loss: 0.2752 - val_accuracy: 0.9395\n"
          ]
        }
      ],
      "source": [
        "checkpoint = ModelCheckpoint('moodel.model',monitor='val_loss',verbose=0,save_best_only=True,mode='auto')\n",
        "history=model.fit(train_data,train_target,epochs=20,callbacks=[checkpoint],validation_split=0.2)"
      ]
    },
    {
      "cell_type": "code",
      "execution_count": 13,
      "metadata": {
        "id": "yDUYW8agMo7S"
      },
      "outputs": [],
      "source": [
        "import pandas as pd"
      ]
    },
    {
      "cell_type": "code",
      "execution_count": 15,
      "metadata": {
        "colab": {
          "base_uri": "https://localhost:8080/",
          "height": 279
        },
        "id": "JMS9Ie99NQlD",
        "outputId": "98659dfa-f9b2-4da2-c625-ebaaff30fd9c"
      },
      "outputs": [
        {
          "data": {
            "image/png": "[encoded data removed]",
            "text/plain": [
              "<Figure size 432x288 with 1 Axes>"
            ]
          },
          "metadata": {
            "needs_background": "light"
          },
          "output_type": "display_data"
        }
      ],
      "source": [
        "from matplotlib import pyplot as plt\n",
        "\n",
        "plt.plot(history.history['loss'],'r',label='training loss')\n",
        "plt.plot(history.history['val_loss'],label='validation loss')\n",
        "plt.xlabel('# epochs')\n",
        "plt.ylabel('loss')\n",
        "plt.legend()\n",
        "plt.show()"
      ]
    },
    {
      "cell_type": "code",
      "execution_count": 16,
      "metadata": {
        "colab": {
          "base_uri": "https://localhost:8080/",
          "height": 279
        },
        "id": "A-7BMQCCNV-G",
        "outputId": "5f6bcd19-3be2-4a26-c288-184fe0d6e3ec"
      },
      "outputs": [
        {
          "data": {
            "image/png": "[encoded data removed]",
            "text/plain": [
              "<Figure size 432x288 with 1 Axes>"
            ]
          },
          "metadata": {
            "needs_background": "light"
          },
          "output_type": "display_data"
        }
      ],
      "source": [
        "plt.plot(history.history['accuracy'],'r',label='training accuracy')\n",
        "plt.plot(history.history['val_accuracy'],label='validation accuracy')\n",
        "plt.xlabel('# epochs')\n",
        "plt.ylabel('loss')\n",
        "plt.legend()\n",
        "plt.show()"
      ]
    },
    {
      "cell_type": "code",
      "execution_count": 17,
      "metadata": {
        "colab": {
          "base_uri": "https://localhost:8080/"
        },
        "id": "vIjn0inSNuJs",
        "outputId": "412a145d-1be4-4e88-fe58-6079c08db186"
      },
      "outputs": [
        {
          "name": "stdout",
          "output_type": "stream",
          "text": [
            "5/5 [==============================] - 0s 60ms/step - loss: 0.3003 - accuracy: 0.9203\n",
            "[0.3003433644771576, 0.9202898740768433]\n"
          ]
        }
      ],
      "source": [
        "print(model.evaluate(test_data,test_target))"
      ]
    },
    {
      "cell_type": "code",
      "execution_count": null,
      "metadata": {
        "id": "4jdzG284NxTU"
      },
      "outputs": [],
      "source": []
    }
  ],
  "metadata": {
    "accelerator": "GPU",
    "colab": {
      "provenance": []
    },
    "gpuClass": "standard",
    "kernelspec": {
      "display_name": "base",
      "language": "python",
      "name": "python3"
    },
    "language_info": {
      "name": "python",
      "version": "3.9.12 (main, Apr  4 2022, 05:22:27) [MSC v.1916 64 bit (AMD64)]"
    },
    "vscode": {
      "interpreter": {
        "hash": "943fd773c5c01781605a276ef83fdcf2887830e657d99128b03812cbaa186d34"
      }
    }
  },
  "nbformat": 4,
  "nbformat_minor": 0
}
